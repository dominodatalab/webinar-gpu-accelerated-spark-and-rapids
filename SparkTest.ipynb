{
 "cells": [
  {
   "cell_type": "markdown",
   "metadata": {},
   "source": [
    "# Simple Spark Parallelisation Test\n",
    "\n",
    "This notebook connects to a Spark cluster, configures the NVIDIA Accelerator for Apache Spark, and runs a simple GPU-accelerated workload by joining two dataframes.\n",
    "\n",
    "Make sure you set the correct Spark configuration to reflect the capacity of the on-demand Spark cluster that you've attached to this Workspace. Important parameters to configure below are:\n",
    "\n",
    "* spark.executor.resource.gpu.amount\n",
    "* spark.executor.cores\n",
    "* spark.task.resource.gpu.amount\n",
    "* spark.rapids.sql.concurrentGpuTasks\n",
    "\n",
    "Note that spark.task.resource.gpu.amount can be a decimal amount, so if you want multiple tasks to be run on an executor at the same time and assigned to the same GPU you can set this to a decimal value less than 1. You would want this setting to correspond to the spark.executor.cores setting. For instance, if you have spark.executor.cores=2 which would allow 2 tasks to run on each executor and you want those 2 tasks to run on the same GPU then you would set spark.task.resource.gpu.amount=0.5. See the Tuning Guide for more details on controlling the task concurrency for each executor.\n",
    "\n",
    "See the [RAPIDS Accelerator for Apache Spark Tuning Guide](https://nvidia.github.io/spark-rapids/docs/tuning-guide.html) for additional details.\n"
   ]
  },
  {
   "cell_type": "code",
   "execution_count": null,
   "metadata": {},
   "outputs": [],
   "source": [
    "from pyspark.sql import SparkSession\n",
    "\n",
    "spark = SparkSession.builder \\\n",
    ".config(\"spark.task.cpus\", 1) \\\n",
    ".config(\"spark.driver.extraClassPath\", \"/opt/sparkRapidsPlugin/rapids-4-spark_2.12-0.1.0.jar:/opt/sparkRapidsPlugin/cudf-0.14-cuda10-1.jar\") \\\n",
    ".config(\"spark.executor.extraClassPath\", \"/opt/sparkRapidsPlugin/rapids-4-spark_2.12-0.1.0.jar:/opt/sparkRapidsPlugin/cudf-0.14-cuda10-1.jar\") \\\n",
    ".config(\"spark.executor.resource.gpu.amount\", 1) \\\n",
    ".config(\"spark.executor.cores\", 6) \\\n",
    ".config(\"spark.task.resource.gpu.amount\", 0.15) \\\n",
    ".config(\"spark.rapids.sql.concurrentGpuTasks\", 1) \\\n",
    ".config(\"spark.rapids.memory.pinnedPool.size\", \"2G\") \\\n",
    ".config(\"spark.locality.wait\", \"0s\") \\\n",
    ".config(\"spark.sql.files.maxPartitionBytes\", \"512m\") \\\n",
    ".config(\"spark.sql.shuffle.partitions\", 10) \\\n",
    ".config(\"spark.plugins\", \"com.nvidia.spark.SQLPlugin\") \\\n",
    ".appName(\"MyGPUAppName\") \\\n",
    ".getOrCreate()"
   ]
  },
  {
   "cell_type": "markdown",
   "metadata": {},
   "source": [
    "Create and run the workload."
   ]
  },
  {
   "cell_type": "code",
   "execution_count": null,
   "metadata": {},
   "outputs": [],
   "source": [
    "df1 = spark.sparkContext.parallelize(range(1, 100)).map(lambda x: (x, \"a\" * x)).toDF()\n",
    "df2 = spark.sparkContext.parallelize(range(1, 100)).map(lambda x: (x, \"b\" * x)).toDF()\n",
    "df = df1.join(df2, how=\"outer\")\n",
    "df.count()"
   ]
  },
  {
   "cell_type": "markdown",
   "metadata": {},
   "source": [
    "Check the Spark WebUI console and confirm that the default Spark operations in the DAG have been replaced with GPU-accelerated versions. When done run the next cell to stop the test application and release its resources back to the cluster."
   ]
  },
  {
   "cell_type": "code",
   "execution_count": null,
   "metadata": {},
   "outputs": [],
   "source": [
    "spark.stop()"
   ]
  },
  {
   "cell_type": "code",
   "execution_count": null,
   "metadata": {},
   "outputs": [],
   "source": []
  }
 ],
 "metadata": {
  "kernelspec": {
   "display_name": "Python 3",
   "language": "python",
   "name": "python3"
  },
  "language_info": {
   "codemirror_mode": {
    "name": "ipython",
    "version": 3
   },
   "file_extension": ".py",
   "mimetype": "text/x-python",
   "name": "python",
   "nbconvert_exporter": "python",
   "pygments_lexer": "ipython3",
   "version": "3.6.10"
  }
 },
 "nbformat": 4,
 "nbformat_minor": 4
}
